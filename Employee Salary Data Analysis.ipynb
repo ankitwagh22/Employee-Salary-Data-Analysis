{
 "cells": [
  {
   "cell_type": "markdown",
   "id": "4142f447-1e9d-459e-a9fb-75f3a32d4b2a",
   "metadata": {},
   "source": [
    "# Employee Salary DataSet Analysis"
   ]
  },
  {
   "cell_type": "code",
   "execution_count": 3,
   "id": "caf2aeb9-550e-45fd-b2cb-31e415f5d6e6",
   "metadata": {},
   "outputs": [
    {
     "name": "stdout",
     "output_type": "stream",
     "text": [
      "            Id       EmployeeName  \\\n",
      "0            1     NATHANIEL FORD   \n",
      "1            2       GARY JIMENEZ   \n",
      "2            3     ALBERT PARDINI   \n",
      "3            4  CHRISTOPHER CHONG   \n",
      "4            5    PATRICK GARDNER   \n",
      "...        ...                ...   \n",
      "148649  148650      Roy I Tillery   \n",
      "148650  148651       Not provided   \n",
      "148651  148652       Not provided   \n",
      "148652  148653       Not provided   \n",
      "148653  148654          Joe Lopez   \n",
      "\n",
      "                                              JobTitle    BasePay  \\\n",
      "0       GENERAL MANAGER-METROPOLITAN TRANSIT AUTHORITY  167411.18   \n",
      "1                      CAPTAIN III (POLICE DEPARTMENT)  155966.02   \n",
      "2                      CAPTAIN III (POLICE DEPARTMENT)  212739.13   \n",
      "3                 WIRE ROPE CABLE MAINTENANCE MECHANIC   77916.00   \n",
      "4         DEPUTY CHIEF OF DEPARTMENT,(FIRE DEPARTMENT)  134401.60   \n",
      "...                                                ...        ...   \n",
      "148649                                       Custodian       0.00   \n",
      "148650                                    Not provided        NaN   \n",
      "148651                                    Not provided        NaN   \n",
      "148652                                    Not provided        NaN   \n",
      "148653                      Counselor, Log Cabin Ranch       0.00   \n",
      "\n",
      "        OvertimePay   OtherPay  Benefits   TotalPay  TotalPayBenefits  Year  \\\n",
      "0              0.00  400184.25       NaN  567595.43         567595.43  2011   \n",
      "1         245131.88  137811.38       NaN  538909.28         538909.28  2011   \n",
      "2         106088.18   16452.60       NaN  335279.91         335279.91  2011   \n",
      "3          56120.71  198306.90       NaN  332343.61         332343.61  2011   \n",
      "4           9737.00  182234.59       NaN  326373.19         326373.19  2011   \n",
      "...             ...        ...       ...        ...               ...   ...   \n",
      "148649         0.00       0.00       0.0       0.00              0.00  2014   \n",
      "148650          NaN        NaN       NaN       0.00              0.00  2014   \n",
      "148651          NaN        NaN       NaN       0.00              0.00  2014   \n",
      "148652          NaN        NaN       NaN       0.00              0.00  2014   \n",
      "148653         0.00    -618.13       0.0    -618.13           -618.13  2014   \n",
      "\n",
      "        Notes         Agency  Status  \n",
      "0         NaN  San Francisco     NaN  \n",
      "1         NaN  San Francisco     NaN  \n",
      "2         NaN  San Francisco     NaN  \n",
      "3         NaN  San Francisco     NaN  \n",
      "4         NaN  San Francisco     NaN  \n",
      "...       ...            ...     ...  \n",
      "148649    NaN  San Francisco     NaN  \n",
      "148650    NaN  San Francisco     NaN  \n",
      "148651    NaN  San Francisco     NaN  \n",
      "148652    NaN  San Francisco     NaN  \n",
      "148653    NaN  San Francisco     NaN  \n",
      "\n",
      "[148654 rows x 13 columns]\n"
     ]
    }
   ],
   "source": [
    "import pandas as pd\n",
    "import numpy as np\n",
    "\n",
    "data = pd.read_csv(\"C:\\\\Users\\\\SHREE\\\\Desktop\\\\Z-data_samples\\\\Salaries.csv\")\n",
    "print(data)"
   ]
  },
  {
   "cell_type": "markdown",
   "id": "8e47b58d-6ff1-4396-bbbc-ea2fcae80f4d",
   "metadata": {},
   "source": [
    "# 1. Display Top 10 Rows of The Dataset"
   ]
  },
  {
   "cell_type": "code",
   "execution_count": 4,
   "id": "5446847c-a5f2-4982-8da4-0326913c8f92",
   "metadata": {},
   "outputs": [
    {
     "data": {
      "text/html": [
       "<div>\n",
       "<style scoped>\n",
       "    .dataframe tbody tr th:only-of-type {\n",
       "        vertical-align: middle;\n",
       "    }\n",
       "\n",
       "    .dataframe tbody tr th {\n",
       "        vertical-align: top;\n",
       "    }\n",
       "\n",
       "    .dataframe thead th {\n",
       "        text-align: right;\n",
       "    }\n",
       "</style>\n",
       "<table border=\"1\" class=\"dataframe\">\n",
       "  <thead>\n",
       "    <tr style=\"text-align: right;\">\n",
       "      <th></th>\n",
       "      <th>Id</th>\n",
       "      <th>EmployeeName</th>\n",
       "      <th>JobTitle</th>\n",
       "      <th>BasePay</th>\n",
       "      <th>OvertimePay</th>\n",
       "      <th>OtherPay</th>\n",
       "      <th>Benefits</th>\n",
       "      <th>TotalPay</th>\n",
       "      <th>TotalPayBenefits</th>\n",
       "      <th>Year</th>\n",
       "      <th>Notes</th>\n",
       "      <th>Agency</th>\n",
       "      <th>Status</th>\n",
       "    </tr>\n",
       "  </thead>\n",
       "  <tbody>\n",
       "    <tr>\n",
       "      <th>0</th>\n",
       "      <td>1</td>\n",
       "      <td>NATHANIEL FORD</td>\n",
       "      <td>GENERAL MANAGER-METROPOLITAN TRANSIT AUTHORITY</td>\n",
       "      <td>167411.18</td>\n",
       "      <td>0.00</td>\n",
       "      <td>400184.25</td>\n",
       "      <td>NaN</td>\n",
       "      <td>567595.43</td>\n",
       "      <td>567595.43</td>\n",
       "      <td>2011</td>\n",
       "      <td>NaN</td>\n",
       "      <td>San Francisco</td>\n",
       "      <td>NaN</td>\n",
       "    </tr>\n",
       "    <tr>\n",
       "      <th>1</th>\n",
       "      <td>2</td>\n",
       "      <td>GARY JIMENEZ</td>\n",
       "      <td>CAPTAIN III (POLICE DEPARTMENT)</td>\n",
       "      <td>155966.02</td>\n",
       "      <td>245131.88</td>\n",
       "      <td>137811.38</td>\n",
       "      <td>NaN</td>\n",
       "      <td>538909.28</td>\n",
       "      <td>538909.28</td>\n",
       "      <td>2011</td>\n",
       "      <td>NaN</td>\n",
       "      <td>San Francisco</td>\n",
       "      <td>NaN</td>\n",
       "    </tr>\n",
       "    <tr>\n",
       "      <th>2</th>\n",
       "      <td>3</td>\n",
       "      <td>ALBERT PARDINI</td>\n",
       "      <td>CAPTAIN III (POLICE DEPARTMENT)</td>\n",
       "      <td>212739.13</td>\n",
       "      <td>106088.18</td>\n",
       "      <td>16452.60</td>\n",
       "      <td>NaN</td>\n",
       "      <td>335279.91</td>\n",
       "      <td>335279.91</td>\n",
       "      <td>2011</td>\n",
       "      <td>NaN</td>\n",
       "      <td>San Francisco</td>\n",
       "      <td>NaN</td>\n",
       "    </tr>\n",
       "    <tr>\n",
       "      <th>3</th>\n",
       "      <td>4</td>\n",
       "      <td>CHRISTOPHER CHONG</td>\n",
       "      <td>WIRE ROPE CABLE MAINTENANCE MECHANIC</td>\n",
       "      <td>77916.00</td>\n",
       "      <td>56120.71</td>\n",
       "      <td>198306.90</td>\n",
       "      <td>NaN</td>\n",
       "      <td>332343.61</td>\n",
       "      <td>332343.61</td>\n",
       "      <td>2011</td>\n",
       "      <td>NaN</td>\n",
       "      <td>San Francisco</td>\n",
       "      <td>NaN</td>\n",
       "    </tr>\n",
       "    <tr>\n",
       "      <th>4</th>\n",
       "      <td>5</td>\n",
       "      <td>PATRICK GARDNER</td>\n",
       "      <td>DEPUTY CHIEF OF DEPARTMENT,(FIRE DEPARTMENT)</td>\n",
       "      <td>134401.60</td>\n",
       "      <td>9737.00</td>\n",
       "      <td>182234.59</td>\n",
       "      <td>NaN</td>\n",
       "      <td>326373.19</td>\n",
       "      <td>326373.19</td>\n",
       "      <td>2011</td>\n",
       "      <td>NaN</td>\n",
       "      <td>San Francisco</td>\n",
       "      <td>NaN</td>\n",
       "    </tr>\n",
       "    <tr>\n",
       "      <th>5</th>\n",
       "      <td>6</td>\n",
       "      <td>DAVID SULLIVAN</td>\n",
       "      <td>ASSISTANT DEPUTY CHIEF II</td>\n",
       "      <td>118602.00</td>\n",
       "      <td>8601.00</td>\n",
       "      <td>189082.74</td>\n",
       "      <td>NaN</td>\n",
       "      <td>316285.74</td>\n",
       "      <td>316285.74</td>\n",
       "      <td>2011</td>\n",
       "      <td>NaN</td>\n",
       "      <td>San Francisco</td>\n",
       "      <td>NaN</td>\n",
       "    </tr>\n",
       "    <tr>\n",
       "      <th>6</th>\n",
       "      <td>7</td>\n",
       "      <td>ALSON LEE</td>\n",
       "      <td>BATTALION CHIEF, (FIRE DEPARTMENT)</td>\n",
       "      <td>92492.01</td>\n",
       "      <td>89062.90</td>\n",
       "      <td>134426.14</td>\n",
       "      <td>NaN</td>\n",
       "      <td>315981.05</td>\n",
       "      <td>315981.05</td>\n",
       "      <td>2011</td>\n",
       "      <td>NaN</td>\n",
       "      <td>San Francisco</td>\n",
       "      <td>NaN</td>\n",
       "    </tr>\n",
       "    <tr>\n",
       "      <th>7</th>\n",
       "      <td>8</td>\n",
       "      <td>DAVID KUSHNER</td>\n",
       "      <td>DEPUTY DIRECTOR OF INVESTMENTS</td>\n",
       "      <td>256576.96</td>\n",
       "      <td>0.00</td>\n",
       "      <td>51322.50</td>\n",
       "      <td>NaN</td>\n",
       "      <td>307899.46</td>\n",
       "      <td>307899.46</td>\n",
       "      <td>2011</td>\n",
       "      <td>NaN</td>\n",
       "      <td>San Francisco</td>\n",
       "      <td>NaN</td>\n",
       "    </tr>\n",
       "    <tr>\n",
       "      <th>8</th>\n",
       "      <td>9</td>\n",
       "      <td>MICHAEL MORRIS</td>\n",
       "      <td>BATTALION CHIEF, (FIRE DEPARTMENT)</td>\n",
       "      <td>176932.64</td>\n",
       "      <td>86362.68</td>\n",
       "      <td>40132.23</td>\n",
       "      <td>NaN</td>\n",
       "      <td>303427.55</td>\n",
       "      <td>303427.55</td>\n",
       "      <td>2011</td>\n",
       "      <td>NaN</td>\n",
       "      <td>San Francisco</td>\n",
       "      <td>NaN</td>\n",
       "    </tr>\n",
       "    <tr>\n",
       "      <th>9</th>\n",
       "      <td>10</td>\n",
       "      <td>JOANNE HAYES-WHITE</td>\n",
       "      <td>CHIEF OF DEPARTMENT, (FIRE DEPARTMENT)</td>\n",
       "      <td>285262.00</td>\n",
       "      <td>0.00</td>\n",
       "      <td>17115.73</td>\n",
       "      <td>NaN</td>\n",
       "      <td>302377.73</td>\n",
       "      <td>302377.73</td>\n",
       "      <td>2011</td>\n",
       "      <td>NaN</td>\n",
       "      <td>San Francisco</td>\n",
       "      <td>NaN</td>\n",
       "    </tr>\n",
       "  </tbody>\n",
       "</table>\n",
       "</div>"
      ],
      "text/plain": [
       "   Id        EmployeeName                                        JobTitle  \\\n",
       "0   1      NATHANIEL FORD  GENERAL MANAGER-METROPOLITAN TRANSIT AUTHORITY   \n",
       "1   2        GARY JIMENEZ                 CAPTAIN III (POLICE DEPARTMENT)   \n",
       "2   3      ALBERT PARDINI                 CAPTAIN III (POLICE DEPARTMENT)   \n",
       "3   4   CHRISTOPHER CHONG            WIRE ROPE CABLE MAINTENANCE MECHANIC   \n",
       "4   5     PATRICK GARDNER    DEPUTY CHIEF OF DEPARTMENT,(FIRE DEPARTMENT)   \n",
       "5   6      DAVID SULLIVAN                       ASSISTANT DEPUTY CHIEF II   \n",
       "6   7           ALSON LEE              BATTALION CHIEF, (FIRE DEPARTMENT)   \n",
       "7   8       DAVID KUSHNER                  DEPUTY DIRECTOR OF INVESTMENTS   \n",
       "8   9      MICHAEL MORRIS              BATTALION CHIEF, (FIRE DEPARTMENT)   \n",
       "9  10  JOANNE HAYES-WHITE          CHIEF OF DEPARTMENT, (FIRE DEPARTMENT)   \n",
       "\n",
       "     BasePay  OvertimePay   OtherPay  Benefits   TotalPay  TotalPayBenefits  \\\n",
       "0  167411.18         0.00  400184.25       NaN  567595.43         567595.43   \n",
       "1  155966.02    245131.88  137811.38       NaN  538909.28         538909.28   \n",
       "2  212739.13    106088.18   16452.60       NaN  335279.91         335279.91   \n",
       "3   77916.00     56120.71  198306.90       NaN  332343.61         332343.61   \n",
       "4  134401.60      9737.00  182234.59       NaN  326373.19         326373.19   \n",
       "5  118602.00      8601.00  189082.74       NaN  316285.74         316285.74   \n",
       "6   92492.01     89062.90  134426.14       NaN  315981.05         315981.05   \n",
       "7  256576.96         0.00   51322.50       NaN  307899.46         307899.46   \n",
       "8  176932.64     86362.68   40132.23       NaN  303427.55         303427.55   \n",
       "9  285262.00         0.00   17115.73       NaN  302377.73         302377.73   \n",
       "\n",
       "   Year  Notes         Agency  Status  \n",
       "0  2011    NaN  San Francisco     NaN  \n",
       "1  2011    NaN  San Francisco     NaN  \n",
       "2  2011    NaN  San Francisco     NaN  \n",
       "3  2011    NaN  San Francisco     NaN  \n",
       "4  2011    NaN  San Francisco     NaN  \n",
       "5  2011    NaN  San Francisco     NaN  \n",
       "6  2011    NaN  San Francisco     NaN  \n",
       "7  2011    NaN  San Francisco     NaN  \n",
       "8  2011    NaN  San Francisco     NaN  \n",
       "9  2011    NaN  San Francisco     NaN  "
      ]
     },
     "execution_count": 4,
     "metadata": {},
     "output_type": "execute_result"
    }
   ],
   "source": [
    "data.head(10)"
   ]
  },
  {
   "cell_type": "markdown",
   "id": "5c1b2ecf-c81f-4672-a521-ecbea2acc30c",
   "metadata": {},
   "source": [
    "# 2. Check Last 10 Rows of The Dataset"
   ]
  },
  {
   "cell_type": "code",
   "execution_count": 5,
   "id": "ff947d1f-fdee-4729-9ca1-e2d14ec7a53f",
   "metadata": {},
   "outputs": [
    {
     "data": {
      "text/html": [
       "<div>\n",
       "<style scoped>\n",
       "    .dataframe tbody tr th:only-of-type {\n",
       "        vertical-align: middle;\n",
       "    }\n",
       "\n",
       "    .dataframe tbody tr th {\n",
       "        vertical-align: top;\n",
       "    }\n",
       "\n",
       "    .dataframe thead th {\n",
       "        text-align: right;\n",
       "    }\n",
       "</style>\n",
       "<table border=\"1\" class=\"dataframe\">\n",
       "  <thead>\n",
       "    <tr style=\"text-align: right;\">\n",
       "      <th></th>\n",
       "      <th>Id</th>\n",
       "      <th>EmployeeName</th>\n",
       "      <th>JobTitle</th>\n",
       "      <th>BasePay</th>\n",
       "      <th>OvertimePay</th>\n",
       "      <th>OtherPay</th>\n",
       "      <th>Benefits</th>\n",
       "      <th>TotalPay</th>\n",
       "      <th>TotalPayBenefits</th>\n",
       "      <th>Year</th>\n",
       "      <th>Notes</th>\n",
       "      <th>Agency</th>\n",
       "      <th>Status</th>\n",
       "    </tr>\n",
       "  </thead>\n",
       "  <tbody>\n",
       "    <tr>\n",
       "      <th>148644</th>\n",
       "      <td>148645</td>\n",
       "      <td>Randy D Winn</td>\n",
       "      <td>Stationary Eng, Sewage Plant</td>\n",
       "      <td>0.0</td>\n",
       "      <td>0.0</td>\n",
       "      <td>0.00</td>\n",
       "      <td>0.0</td>\n",
       "      <td>0.00</td>\n",
       "      <td>0.00</td>\n",
       "      <td>2014</td>\n",
       "      <td>NaN</td>\n",
       "      <td>San Francisco</td>\n",
       "      <td>NaN</td>\n",
       "    </tr>\n",
       "    <tr>\n",
       "      <th>148645</th>\n",
       "      <td>148646</td>\n",
       "      <td>Carolyn A Wilson</td>\n",
       "      <td>Human Services Technician</td>\n",
       "      <td>0.0</td>\n",
       "      <td>0.0</td>\n",
       "      <td>0.00</td>\n",
       "      <td>0.0</td>\n",
       "      <td>0.00</td>\n",
       "      <td>0.00</td>\n",
       "      <td>2014</td>\n",
       "      <td>NaN</td>\n",
       "      <td>San Francisco</td>\n",
       "      <td>NaN</td>\n",
       "    </tr>\n",
       "    <tr>\n",
       "      <th>148646</th>\n",
       "      <td>148647</td>\n",
       "      <td>Not provided</td>\n",
       "      <td>Not provided</td>\n",
       "      <td>NaN</td>\n",
       "      <td>NaN</td>\n",
       "      <td>NaN</td>\n",
       "      <td>NaN</td>\n",
       "      <td>0.00</td>\n",
       "      <td>0.00</td>\n",
       "      <td>2014</td>\n",
       "      <td>NaN</td>\n",
       "      <td>San Francisco</td>\n",
       "      <td>NaN</td>\n",
       "    </tr>\n",
       "    <tr>\n",
       "      <th>148647</th>\n",
       "      <td>148648</td>\n",
       "      <td>Joann Anderson</td>\n",
       "      <td>Communications Dispatcher 2</td>\n",
       "      <td>0.0</td>\n",
       "      <td>0.0</td>\n",
       "      <td>0.00</td>\n",
       "      <td>0.0</td>\n",
       "      <td>0.00</td>\n",
       "      <td>0.00</td>\n",
       "      <td>2014</td>\n",
       "      <td>NaN</td>\n",
       "      <td>San Francisco</td>\n",
       "      <td>NaN</td>\n",
       "    </tr>\n",
       "    <tr>\n",
       "      <th>148648</th>\n",
       "      <td>148649</td>\n",
       "      <td>Leon Walker</td>\n",
       "      <td>Custodian</td>\n",
       "      <td>0.0</td>\n",
       "      <td>0.0</td>\n",
       "      <td>0.00</td>\n",
       "      <td>0.0</td>\n",
       "      <td>0.00</td>\n",
       "      <td>0.00</td>\n",
       "      <td>2014</td>\n",
       "      <td>NaN</td>\n",
       "      <td>San Francisco</td>\n",
       "      <td>NaN</td>\n",
       "    </tr>\n",
       "    <tr>\n",
       "      <th>148649</th>\n",
       "      <td>148650</td>\n",
       "      <td>Roy I Tillery</td>\n",
       "      <td>Custodian</td>\n",
       "      <td>0.0</td>\n",
       "      <td>0.0</td>\n",
       "      <td>0.00</td>\n",
       "      <td>0.0</td>\n",
       "      <td>0.00</td>\n",
       "      <td>0.00</td>\n",
       "      <td>2014</td>\n",
       "      <td>NaN</td>\n",
       "      <td>San Francisco</td>\n",
       "      <td>NaN</td>\n",
       "    </tr>\n",
       "    <tr>\n",
       "      <th>148650</th>\n",
       "      <td>148651</td>\n",
       "      <td>Not provided</td>\n",
       "      <td>Not provided</td>\n",
       "      <td>NaN</td>\n",
       "      <td>NaN</td>\n",
       "      <td>NaN</td>\n",
       "      <td>NaN</td>\n",
       "      <td>0.00</td>\n",
       "      <td>0.00</td>\n",
       "      <td>2014</td>\n",
       "      <td>NaN</td>\n",
       "      <td>San Francisco</td>\n",
       "      <td>NaN</td>\n",
       "    </tr>\n",
       "    <tr>\n",
       "      <th>148651</th>\n",
       "      <td>148652</td>\n",
       "      <td>Not provided</td>\n",
       "      <td>Not provided</td>\n",
       "      <td>NaN</td>\n",
       "      <td>NaN</td>\n",
       "      <td>NaN</td>\n",
       "      <td>NaN</td>\n",
       "      <td>0.00</td>\n",
       "      <td>0.00</td>\n",
       "      <td>2014</td>\n",
       "      <td>NaN</td>\n",
       "      <td>San Francisco</td>\n",
       "      <td>NaN</td>\n",
       "    </tr>\n",
       "    <tr>\n",
       "      <th>148652</th>\n",
       "      <td>148653</td>\n",
       "      <td>Not provided</td>\n",
       "      <td>Not provided</td>\n",
       "      <td>NaN</td>\n",
       "      <td>NaN</td>\n",
       "      <td>NaN</td>\n",
       "      <td>NaN</td>\n",
       "      <td>0.00</td>\n",
       "      <td>0.00</td>\n",
       "      <td>2014</td>\n",
       "      <td>NaN</td>\n",
       "      <td>San Francisco</td>\n",
       "      <td>NaN</td>\n",
       "    </tr>\n",
       "    <tr>\n",
       "      <th>148653</th>\n",
       "      <td>148654</td>\n",
       "      <td>Joe Lopez</td>\n",
       "      <td>Counselor, Log Cabin Ranch</td>\n",
       "      <td>0.0</td>\n",
       "      <td>0.0</td>\n",
       "      <td>-618.13</td>\n",
       "      <td>0.0</td>\n",
       "      <td>-618.13</td>\n",
       "      <td>-618.13</td>\n",
       "      <td>2014</td>\n",
       "      <td>NaN</td>\n",
       "      <td>San Francisco</td>\n",
       "      <td>NaN</td>\n",
       "    </tr>\n",
       "  </tbody>\n",
       "</table>\n",
       "</div>"
      ],
      "text/plain": [
       "            Id      EmployeeName                      JobTitle  BasePay  \\\n",
       "148644  148645      Randy D Winn  Stationary Eng, Sewage Plant      0.0   \n",
       "148645  148646  Carolyn A Wilson     Human Services Technician      0.0   \n",
       "148646  148647      Not provided                  Not provided      NaN   \n",
       "148647  148648    Joann Anderson   Communications Dispatcher 2      0.0   \n",
       "148648  148649       Leon Walker                     Custodian      0.0   \n",
       "148649  148650     Roy I Tillery                     Custodian      0.0   \n",
       "148650  148651      Not provided                  Not provided      NaN   \n",
       "148651  148652      Not provided                  Not provided      NaN   \n",
       "148652  148653      Not provided                  Not provided      NaN   \n",
       "148653  148654         Joe Lopez    Counselor, Log Cabin Ranch      0.0   \n",
       "\n",
       "        OvertimePay  OtherPay  Benefits  TotalPay  TotalPayBenefits  Year  \\\n",
       "148644          0.0      0.00       0.0      0.00              0.00  2014   \n",
       "148645          0.0      0.00       0.0      0.00              0.00  2014   \n",
       "148646          NaN       NaN       NaN      0.00              0.00  2014   \n",
       "148647          0.0      0.00       0.0      0.00              0.00  2014   \n",
       "148648          0.0      0.00       0.0      0.00              0.00  2014   \n",
       "148649          0.0      0.00       0.0      0.00              0.00  2014   \n",
       "148650          NaN       NaN       NaN      0.00              0.00  2014   \n",
       "148651          NaN       NaN       NaN      0.00              0.00  2014   \n",
       "148652          NaN       NaN       NaN      0.00              0.00  2014   \n",
       "148653          0.0   -618.13       0.0   -618.13           -618.13  2014   \n",
       "\n",
       "        Notes         Agency  Status  \n",
       "148644    NaN  San Francisco     NaN  \n",
       "148645    NaN  San Francisco     NaN  \n",
       "148646    NaN  San Francisco     NaN  \n",
       "148647    NaN  San Francisco     NaN  \n",
       "148648    NaN  San Francisco     NaN  \n",
       "148649    NaN  San Francisco     NaN  \n",
       "148650    NaN  San Francisco     NaN  \n",
       "148651    NaN  San Francisco     NaN  \n",
       "148652    NaN  San Francisco     NaN  \n",
       "148653    NaN  San Francisco     NaN  "
      ]
     },
     "execution_count": 5,
     "metadata": {},
     "output_type": "execute_result"
    }
   ],
   "source": [
    "data.tail(10)"
   ]
  },
  {
   "cell_type": "markdown",
   "id": "45185744-8948-4379-ba6e-caa069f42830",
   "metadata": {},
   "source": [
    "# 3. Find Shape of Our Dataset (Number of Rows And Number of Columns)"
   ]
  },
  {
   "cell_type": "code",
   "execution_count": 6,
   "id": "60c99759-f92f-407c-8a08-f56ed749be9f",
   "metadata": {},
   "outputs": [
    {
     "name": "stdout",
     "output_type": "stream",
     "text": [
      "Number of Rows = 148654\n",
      "Number of columns = 13\n"
     ]
    }
   ],
   "source": [
    "print(\"Number of Rows =\", data.shape[0])\n",
    "print(\"Number of columns =\", data.shape[1])"
   ]
  },
  {
   "cell_type": "markdown",
   "id": "c53006ea-89e9-4db8-87cf-c3f3dd47d09a",
   "metadata": {},
   "source": [
    "# 4. Getting Information About Our Dataset Like Total Number Rows, Total Number of Columns, \n",
    "# Datatypes of Each Column And  Memory Requirement"
   ]
  },
  {
   "cell_type": "code",
   "execution_count": 7,
   "id": "97678fde-403c-4f02-adbe-418f84f76c40",
   "metadata": {},
   "outputs": [
    {
     "name": "stdout",
     "output_type": "stream",
     "text": [
      "<class 'pandas.core.frame.DataFrame'>\n",
      "RangeIndex: 148654 entries, 0 to 148653\n",
      "Data columns (total 13 columns):\n",
      " #   Column            Non-Null Count   Dtype  \n",
      "---  ------            --------------   -----  \n",
      " 0   Id                148654 non-null  int64  \n",
      " 1   EmployeeName      148654 non-null  object \n",
      " 2   JobTitle          148654 non-null  object \n",
      " 3   BasePay           148045 non-null  float64\n",
      " 4   OvertimePay       148650 non-null  float64\n",
      " 5   OtherPay          148650 non-null  float64\n",
      " 6   Benefits          112491 non-null  float64\n",
      " 7   TotalPay          148654 non-null  float64\n",
      " 8   TotalPayBenefits  148654 non-null  float64\n",
      " 9   Year              148654 non-null  int64  \n",
      " 10  Notes             0 non-null       float64\n",
      " 11  Agency            148654 non-null  object \n",
      " 12  Status            0 non-null       float64\n",
      "dtypes: float64(8), int64(2), object(3)\n",
      "memory usage: 14.7+ MB\n"
     ]
    }
   ],
   "source": [
    "data.info()"
   ]
  },
  {
   "cell_type": "markdown",
   "id": "e68757f3-acf1-4bc7-a351-6d4cf6d7df09",
   "metadata": {},
   "source": [
    "# 5. Check Null Values In The Dataset"
   ]
  },
  {
   "cell_type": "code",
   "execution_count": 8,
   "id": "4db3a133-60ea-47f4-a360-8084b25e39d2",
   "metadata": {},
   "outputs": [
    {
     "data": {
      "text/plain": [
       "Id                       0\n",
       "EmployeeName             0\n",
       "JobTitle                 0\n",
       "BasePay                609\n",
       "OvertimePay              4\n",
       "OtherPay                 4\n",
       "Benefits             36163\n",
       "TotalPay                 0\n",
       "TotalPayBenefits         0\n",
       "Year                     0\n",
       "Notes               148654\n",
       "Agency                   0\n",
       "Status              148654\n",
       "dtype: int64"
      ]
     },
     "execution_count": 8,
     "metadata": {},
     "output_type": "execute_result"
    }
   ],
   "source": [
    "data.isna().sum()"
   ]
  },
  {
   "cell_type": "markdown",
   "id": "1ae57564-824e-4d14-bdfd-f9eb69baf6ca",
   "metadata": {},
   "source": [
    "# 6. Drop ID, Notes, Agency, and Status Columns"
   ]
  },
  {
   "cell_type": "code",
   "execution_count": 9,
   "id": "252293a0-09f6-4d8b-8c1b-791bbba7a596",
   "metadata": {},
   "outputs": [
    {
     "name": "stdout",
     "output_type": "stream",
     "text": [
      "             EmployeeName                                        JobTitle  \\\n",
      "0          NATHANIEL FORD  GENERAL MANAGER-METROPOLITAN TRANSIT AUTHORITY   \n",
      "1            GARY JIMENEZ                 CAPTAIN III (POLICE DEPARTMENT)   \n",
      "2          ALBERT PARDINI                 CAPTAIN III (POLICE DEPARTMENT)   \n",
      "3       CHRISTOPHER CHONG            WIRE ROPE CABLE MAINTENANCE MECHANIC   \n",
      "4         PATRICK GARDNER    DEPUTY CHIEF OF DEPARTMENT,(FIRE DEPARTMENT)   \n",
      "...                   ...                                             ...   \n",
      "148649      Roy I Tillery                                       Custodian   \n",
      "148650       Not provided                                    Not provided   \n",
      "148651       Not provided                                    Not provided   \n",
      "148652       Not provided                                    Not provided   \n",
      "148653          Joe Lopez                      Counselor, Log Cabin Ranch   \n",
      "\n",
      "          BasePay  OvertimePay   OtherPay  Benefits   TotalPay  \\\n",
      "0       167411.18         0.00  400184.25       NaN  567595.43   \n",
      "1       155966.02    245131.88  137811.38       NaN  538909.28   \n",
      "2       212739.13    106088.18   16452.60       NaN  335279.91   \n",
      "3        77916.00     56120.71  198306.90       NaN  332343.61   \n",
      "4       134401.60      9737.00  182234.59       NaN  326373.19   \n",
      "...           ...          ...        ...       ...        ...   \n",
      "148649       0.00         0.00       0.00       0.0       0.00   \n",
      "148650        NaN          NaN        NaN       NaN       0.00   \n",
      "148651        NaN          NaN        NaN       NaN       0.00   \n",
      "148652        NaN          NaN        NaN       NaN       0.00   \n",
      "148653       0.00         0.00    -618.13       0.0    -618.13   \n",
      "\n",
      "        TotalPayBenefits  Year  \n",
      "0              567595.43  2011  \n",
      "1              538909.28  2011  \n",
      "2              335279.91  2011  \n",
      "3              332343.61  2011  \n",
      "4              326373.19  2011  \n",
      "...                  ...   ...  \n",
      "148649              0.00  2014  \n",
      "148650              0.00  2014  \n",
      "148651              0.00  2014  \n",
      "148652              0.00  2014  \n",
      "148653           -618.13  2014  \n",
      "\n",
      "[148654 rows x 9 columns]\n"
     ]
    }
   ],
   "source": [
    "data.drop(columns=['Id','Notes','Agency','Status'],inplace=True,errors='ignore')\n",
    "print(data)"
   ]
  },
  {
   "cell_type": "markdown",
   "id": "243109fc-afc0-422a-8d02-5a44113352f4",
   "metadata": {},
   "source": [
    "# 7. Get Overall Statistics About The Dataframe"
   ]
  },
  {
   "cell_type": "code",
   "execution_count": 10,
   "id": "c7de80cb-a43a-4c14-bc38-5096cea7e204",
   "metadata": {},
   "outputs": [
    {
     "data": {
      "text/html": [
       "<div>\n",
       "<style scoped>\n",
       "    .dataframe tbody tr th:only-of-type {\n",
       "        vertical-align: middle;\n",
       "    }\n",
       "\n",
       "    .dataframe tbody tr th {\n",
       "        vertical-align: top;\n",
       "    }\n",
       "\n",
       "    .dataframe thead th {\n",
       "        text-align: right;\n",
       "    }\n",
       "</style>\n",
       "<table border=\"1\" class=\"dataframe\">\n",
       "  <thead>\n",
       "    <tr style=\"text-align: right;\">\n",
       "      <th></th>\n",
       "      <th>BasePay</th>\n",
       "      <th>OvertimePay</th>\n",
       "      <th>OtherPay</th>\n",
       "      <th>Benefits</th>\n",
       "      <th>TotalPay</th>\n",
       "      <th>TotalPayBenefits</th>\n",
       "      <th>Year</th>\n",
       "    </tr>\n",
       "  </thead>\n",
       "  <tbody>\n",
       "    <tr>\n",
       "      <th>count</th>\n",
       "      <td>148045.000000</td>\n",
       "      <td>148650.000000</td>\n",
       "      <td>148650.000000</td>\n",
       "      <td>112491.000000</td>\n",
       "      <td>148654.000000</td>\n",
       "      <td>148654.000000</td>\n",
       "      <td>148654.000000</td>\n",
       "    </tr>\n",
       "    <tr>\n",
       "      <th>mean</th>\n",
       "      <td>66325.448840</td>\n",
       "      <td>5066.059886</td>\n",
       "      <td>3648.767297</td>\n",
       "      <td>25007.893151</td>\n",
       "      <td>74768.321972</td>\n",
       "      <td>93692.554811</td>\n",
       "      <td>2012.522643</td>\n",
       "    </tr>\n",
       "    <tr>\n",
       "      <th>std</th>\n",
       "      <td>42764.635495</td>\n",
       "      <td>11454.380559</td>\n",
       "      <td>8056.601866</td>\n",
       "      <td>15402.215858</td>\n",
       "      <td>50517.005274</td>\n",
       "      <td>62793.533483</td>\n",
       "      <td>1.117538</td>\n",
       "    </tr>\n",
       "    <tr>\n",
       "      <th>min</th>\n",
       "      <td>-166.010000</td>\n",
       "      <td>-0.010000</td>\n",
       "      <td>-7058.590000</td>\n",
       "      <td>-33.890000</td>\n",
       "      <td>-618.130000</td>\n",
       "      <td>-618.130000</td>\n",
       "      <td>2011.000000</td>\n",
       "    </tr>\n",
       "    <tr>\n",
       "      <th>25%</th>\n",
       "      <td>33588.200000</td>\n",
       "      <td>0.000000</td>\n",
       "      <td>0.000000</td>\n",
       "      <td>11535.395000</td>\n",
       "      <td>36168.995000</td>\n",
       "      <td>44065.650000</td>\n",
       "      <td>2012.000000</td>\n",
       "    </tr>\n",
       "    <tr>\n",
       "      <th>50%</th>\n",
       "      <td>65007.450000</td>\n",
       "      <td>0.000000</td>\n",
       "      <td>811.270000</td>\n",
       "      <td>28628.620000</td>\n",
       "      <td>71426.610000</td>\n",
       "      <td>92404.090000</td>\n",
       "      <td>2013.000000</td>\n",
       "    </tr>\n",
       "    <tr>\n",
       "      <th>75%</th>\n",
       "      <td>94691.050000</td>\n",
       "      <td>4658.175000</td>\n",
       "      <td>4236.065000</td>\n",
       "      <td>35566.855000</td>\n",
       "      <td>105839.135000</td>\n",
       "      <td>132876.450000</td>\n",
       "      <td>2014.000000</td>\n",
       "    </tr>\n",
       "    <tr>\n",
       "      <th>max</th>\n",
       "      <td>319275.010000</td>\n",
       "      <td>245131.880000</td>\n",
       "      <td>400184.250000</td>\n",
       "      <td>96570.660000</td>\n",
       "      <td>567595.430000</td>\n",
       "      <td>567595.430000</td>\n",
       "      <td>2014.000000</td>\n",
       "    </tr>\n",
       "  </tbody>\n",
       "</table>\n",
       "</div>"
      ],
      "text/plain": [
       "             BasePay    OvertimePay       OtherPay       Benefits  \\\n",
       "count  148045.000000  148650.000000  148650.000000  112491.000000   \n",
       "mean    66325.448840    5066.059886    3648.767297   25007.893151   \n",
       "std     42764.635495   11454.380559    8056.601866   15402.215858   \n",
       "min      -166.010000      -0.010000   -7058.590000     -33.890000   \n",
       "25%     33588.200000       0.000000       0.000000   11535.395000   \n",
       "50%     65007.450000       0.000000     811.270000   28628.620000   \n",
       "75%     94691.050000    4658.175000    4236.065000   35566.855000   \n",
       "max    319275.010000  245131.880000  400184.250000   96570.660000   \n",
       "\n",
       "            TotalPay  TotalPayBenefits           Year  \n",
       "count  148654.000000     148654.000000  148654.000000  \n",
       "mean    74768.321972      93692.554811    2012.522643  \n",
       "std     50517.005274      62793.533483       1.117538  \n",
       "min      -618.130000       -618.130000    2011.000000  \n",
       "25%     36168.995000      44065.650000    2012.000000  \n",
       "50%     71426.610000      92404.090000    2013.000000  \n",
       "75%    105839.135000     132876.450000    2014.000000  \n",
       "max    567595.430000     567595.430000    2014.000000  "
      ]
     },
     "execution_count": 10,
     "metadata": {},
     "output_type": "execute_result"
    }
   ],
   "source": [
    "data.describe()"
   ]
  },
  {
   "cell_type": "markdown",
   "id": "2f35ce2a-5a66-4111-8001-8d78eb873d46",
   "metadata": {},
   "source": [
    "# 8. Find Occurrence of The Top 5 Employee Names"
   ]
  },
  {
   "cell_type": "code",
   "execution_count": 11,
   "id": "959c9e88-46e1-49ea-a9ff-7d89214964da",
   "metadata": {},
   "outputs": [
    {
     "name": "stdout",
     "output_type": "stream",
     "text": [
      "EmployeeName\n",
      "Kevin Lee       13\n",
      "William Wong    11\n",
      "Richard Lee     11\n",
      "Steven Lee      11\n",
      "John Chan        9\n",
      "Name: count, dtype: int64\n"
     ]
    }
   ],
   "source": [
    "top5 = data['EmployeeName'].value_counts().head()\n",
    "print(top5)"
   ]
  },
  {
   "cell_type": "markdown",
   "id": "03e0e068-8afc-44f3-b11c-4dba571d9b6c",
   "metadata": {},
   "source": [
    "# 9. Find The Number of Unique Job Titles"
   ]
  },
  {
   "cell_type": "code",
   "execution_count": 12,
   "id": "89571b75-3f3f-4e1e-8e5c-b209d38b9186",
   "metadata": {},
   "outputs": [
    {
     "name": "stdout",
     "output_type": "stream",
     "text": [
      "Number of Unique Job Titles = 2159\n"
     ]
    }
   ],
   "source": [
    "num = data['JobTitle'].nunique()\n",
    "print(\"Number of Unique Job Titles =\", num)"
   ]
  },
  {
   "cell_type": "markdown",
   "id": "17e06653-c296-487b-93b2-8139e72dfcef",
   "metadata": {},
   "source": [
    "# 10. Total Number of Job Titles Contain Captain"
   ]
  },
  {
   "cell_type": "code",
   "execution_count": 13,
   "id": "874f95c4-e9cf-413f-a7dc-ee2761850c9b",
   "metadata": {},
   "outputs": [
    {
     "name": "stdout",
     "output_type": "stream",
     "text": [
      "Total Number of Job Titles Contain Captain = 141\n"
     ]
    }
   ],
   "source": [
    "tot = len(data[data['JobTitle'].str.contains('CAPTAIN')])\n",
    "print(\"Total Number of Job Titles Contain Captain =\", tot)"
   ]
  },
  {
   "cell_type": "code",
   "execution_count": 14,
   "id": "e6b84ab0-8162-4694-b505-91ba62a3502c",
   "metadata": {},
   "outputs": [
    {
     "data": {
      "text/html": [
       "<div>\n",
       "<style scoped>\n",
       "    .dataframe tbody tr th:only-of-type {\n",
       "        vertical-align: middle;\n",
       "    }\n",
       "\n",
       "    .dataframe tbody tr th {\n",
       "        vertical-align: top;\n",
       "    }\n",
       "\n",
       "    .dataframe thead th {\n",
       "        text-align: right;\n",
       "    }\n",
       "</style>\n",
       "<table border=\"1\" class=\"dataframe\">\n",
       "  <thead>\n",
       "    <tr style=\"text-align: right;\">\n",
       "      <th></th>\n",
       "      <th>EmployeeName</th>\n",
       "      <th>JobTitle</th>\n",
       "      <th>BasePay</th>\n",
       "      <th>OvertimePay</th>\n",
       "      <th>OtherPay</th>\n",
       "      <th>Benefits</th>\n",
       "      <th>TotalPay</th>\n",
       "      <th>TotalPayBenefits</th>\n",
       "      <th>Year</th>\n",
       "    </tr>\n",
       "  </thead>\n",
       "  <tbody>\n",
       "    <tr>\n",
       "      <th>1</th>\n",
       "      <td>GARY JIMENEZ</td>\n",
       "      <td>CAPTAIN III (POLICE DEPARTMENT)</td>\n",
       "      <td>155966.02</td>\n",
       "      <td>245131.88</td>\n",
       "      <td>137811.38</td>\n",
       "      <td>NaN</td>\n",
       "      <td>538909.28</td>\n",
       "      <td>538909.28</td>\n",
       "      <td>2011</td>\n",
       "    </tr>\n",
       "    <tr>\n",
       "      <th>2</th>\n",
       "      <td>ALBERT PARDINI</td>\n",
       "      <td>CAPTAIN III (POLICE DEPARTMENT)</td>\n",
       "      <td>212739.13</td>\n",
       "      <td>106088.18</td>\n",
       "      <td>16452.60</td>\n",
       "      <td>NaN</td>\n",
       "      <td>335279.91</td>\n",
       "      <td>335279.91</td>\n",
       "      <td>2011</td>\n",
       "    </tr>\n",
       "    <tr>\n",
       "      <th>11</th>\n",
       "      <td>PATRICIA JACKSON</td>\n",
       "      <td>CAPTAIN III (POLICE DEPARTMENT)</td>\n",
       "      <td>99722.00</td>\n",
       "      <td>87082.62</td>\n",
       "      <td>110804.30</td>\n",
       "      <td>NaN</td>\n",
       "      <td>297608.92</td>\n",
       "      <td>297608.92</td>\n",
       "      <td>2011</td>\n",
       "    </tr>\n",
       "    <tr>\n",
       "      <th>17</th>\n",
       "      <td>SEBASTIAN WONG</td>\n",
       "      <td>CAPTAIN, EMERGENCYCY MEDICAL SERVICES</td>\n",
       "      <td>140546.87</td>\n",
       "      <td>119397.26</td>\n",
       "      <td>18625.08</td>\n",
       "      <td>NaN</td>\n",
       "      <td>278569.21</td>\n",
       "      <td>278569.21</td>\n",
       "      <td>2011</td>\n",
       "    </tr>\n",
       "    <tr>\n",
       "      <th>22</th>\n",
       "      <td>GEORGE GARCIA</td>\n",
       "      <td>CAPTAIN, FIRE SUPPRESSION</td>\n",
       "      <td>140546.88</td>\n",
       "      <td>93200.58</td>\n",
       "      <td>39955.25</td>\n",
       "      <td>NaN</td>\n",
       "      <td>273702.71</td>\n",
       "      <td>273702.71</td>\n",
       "      <td>2011</td>\n",
       "    </tr>\n",
       "    <tr>\n",
       "      <th>...</th>\n",
       "      <td>...</td>\n",
       "      <td>...</td>\n",
       "      <td>...</td>\n",
       "      <td>...</td>\n",
       "      <td>...</td>\n",
       "      <td>...</td>\n",
       "      <td>...</td>\n",
       "      <td>...</td>\n",
       "      <td>...</td>\n",
       "    </tr>\n",
       "    <tr>\n",
       "      <th>116604</th>\n",
       "      <td>Gregory L Stewart</td>\n",
       "      <td>Captain, Fire Suppression</td>\n",
       "      <td>73355.21</td>\n",
       "      <td>18517.18</td>\n",
       "      <td>49917.73</td>\n",
       "      <td>25608.77</td>\n",
       "      <td>141790.12</td>\n",
       "      <td>167398.89</td>\n",
       "      <td>2014</td>\n",
       "    </tr>\n",
       "    <tr>\n",
       "      <th>120867</th>\n",
       "      <td>Michael J Moran</td>\n",
       "      <td>Captain 3</td>\n",
       "      <td>7660.00</td>\n",
       "      <td>1496.09</td>\n",
       "      <td>126560.36</td>\n",
       "      <td>2189.51</td>\n",
       "      <td>135716.45</td>\n",
       "      <td>137905.96</td>\n",
       "      <td>2014</td>\n",
       "    </tr>\n",
       "    <tr>\n",
       "      <th>122361</th>\n",
       "      <td>Michael V Rolovich</td>\n",
       "      <td>Captain, Fire Suppression</td>\n",
       "      <td>0.00</td>\n",
       "      <td>0.00</td>\n",
       "      <td>130320.75</td>\n",
       "      <td>0.00</td>\n",
       "      <td>130320.75</td>\n",
       "      <td>130320.75</td>\n",
       "      <td>2014</td>\n",
       "    </tr>\n",
       "    <tr>\n",
       "      <th>126588</th>\n",
       "      <td>Stephen M Tittel</td>\n",
       "      <td>Captain 3</td>\n",
       "      <td>68491.89</td>\n",
       "      <td>0.00</td>\n",
       "      <td>23721.91</td>\n",
       "      <td>19020.79</td>\n",
       "      <td>92213.80</td>\n",
       "      <td>111234.59</td>\n",
       "      <td>2014</td>\n",
       "    </tr>\n",
       "    <tr>\n",
       "      <th>132232</th>\n",
       "      <td>Jeanne M Seyler</td>\n",
       "      <td>Captain, Fire Suppression</td>\n",
       "      <td>61039.43</td>\n",
       "      <td>2285.30</td>\n",
       "      <td>7548.29</td>\n",
       "      <td>20113.76</td>\n",
       "      <td>70873.02</td>\n",
       "      <td>90986.78</td>\n",
       "      <td>2014</td>\n",
       "    </tr>\n",
       "  </tbody>\n",
       "</table>\n",
       "<p>552 rows × 9 columns</p>\n",
       "</div>"
      ],
      "text/plain": [
       "              EmployeeName                               JobTitle    BasePay  \\\n",
       "1             GARY JIMENEZ        CAPTAIN III (POLICE DEPARTMENT)  155966.02   \n",
       "2           ALBERT PARDINI        CAPTAIN III (POLICE DEPARTMENT)  212739.13   \n",
       "11        PATRICIA JACKSON        CAPTAIN III (POLICE DEPARTMENT)   99722.00   \n",
       "17          SEBASTIAN WONG  CAPTAIN, EMERGENCYCY MEDICAL SERVICES  140546.87   \n",
       "22           GEORGE GARCIA              CAPTAIN, FIRE SUPPRESSION  140546.88   \n",
       "...                    ...                                    ...        ...   \n",
       "116604   Gregory L Stewart              Captain, Fire Suppression   73355.21   \n",
       "120867     Michael J Moran                              Captain 3    7660.00   \n",
       "122361  Michael V Rolovich              Captain, Fire Suppression       0.00   \n",
       "126588    Stephen M Tittel                              Captain 3   68491.89   \n",
       "132232     Jeanne M Seyler              Captain, Fire Suppression   61039.43   \n",
       "\n",
       "        OvertimePay   OtherPay  Benefits   TotalPay  TotalPayBenefits  Year  \n",
       "1         245131.88  137811.38       NaN  538909.28         538909.28  2011  \n",
       "2         106088.18   16452.60       NaN  335279.91         335279.91  2011  \n",
       "11         87082.62  110804.30       NaN  297608.92         297608.92  2011  \n",
       "17        119397.26   18625.08       NaN  278569.21         278569.21  2011  \n",
       "22         93200.58   39955.25       NaN  273702.71         273702.71  2011  \n",
       "...             ...        ...       ...        ...               ...   ...  \n",
       "116604     18517.18   49917.73  25608.77  141790.12         167398.89  2014  \n",
       "120867      1496.09  126560.36   2189.51  135716.45         137905.96  2014  \n",
       "122361         0.00  130320.75      0.00  130320.75         130320.75  2014  \n",
       "126588         0.00   23721.91  19020.79   92213.80         111234.59  2014  \n",
       "132232      2285.30    7548.29  20113.76   70873.02          90986.78  2014  \n",
       "\n",
       "[552 rows x 9 columns]"
      ]
     },
     "execution_count": 14,
     "metadata": {},
     "output_type": "execute_result"
    }
   ],
   "source": [
    "data[data['JobTitle'].str.contains('CAPTAIN',case=False)]"
   ]
  },
  {
   "cell_type": "markdown",
   "id": "af722912-312c-4ab0-8fe7-60375e51e3d1",
   "metadata": {},
   "source": [
    "# 11. Display All the Employee Names From Fire Department"
   ]
  },
  {
   "cell_type": "code",
   "execution_count": 15,
   "id": "f662c3fd-6414-47aa-bc26-ab9ba15047c6",
   "metadata": {},
   "outputs": [
    {
     "data": {
      "text/plain": [
       "4           PATRICK GARDNER\n",
       "6                 ALSON LEE\n",
       "8            MICHAEL MORRIS\n",
       "9        JOANNE HAYES-WHITE\n",
       "10            ARTHUR KENNEY\n",
       "                ...        \n",
       "4955              AUDRY LEE\n",
       "5498          VINCENT PEREZ\n",
       "8436          JENSEN RHODES\n",
       "16285       AARON STEVENSON\n",
       "32623          JAMES BARDEN\n",
       "Name: EmployeeName, Length: 222, dtype: object"
      ]
     },
     "execution_count": 15,
     "metadata": {},
     "output_type": "execute_result"
    }
   ],
   "source": [
    "data[data['JobTitle'].str.contains('FIRE DEPARTMENT')]['EmployeeName']"
   ]
  },
  {
   "cell_type": "markdown",
   "id": "efaffa20-8380-494a-a911-d1b08ddb1303",
   "metadata": {},
   "source": [
    "# 12. Find Minimum, Maximum, and Average BasePay"
   ]
  },
  {
   "cell_type": "code",
   "execution_count": 53,
   "id": "fe9a8c0b-da17-4b88-b602-289d0ae40bbe",
   "metadata": {},
   "outputs": [
    {
     "name": "stdout",
     "output_type": "stream",
     "text": [
      "Minimum of BasePay is = -166.01\n",
      "Maximun of BasePay is = 319275.01\n",
      "Average of BasePay is = 66325.4488404877\n"
     ]
    }
   ],
   "source": [
    "minm = data['BasePay'].min()\n",
    "maxm = data['BasePay'].max()\n",
    "avg = data['BasePay'].mean()\n",
    "print(\"Minimum of BasePay is =\", minm)\n",
    "print(\"Maximun of BasePay is =\", maxm)\n",
    "print(\"Average of BasePay is =\", avg)"
   ]
  },
  {
   "cell_type": "markdown",
   "id": "2d1afc3e-9795-417d-818d-8100a200e2ac",
   "metadata": {},
   "source": [
    "# 13. Replace 'Not Provided' in EmployeeName Column to NaN "
   ]
  },
  {
   "cell_type": "code",
   "execution_count": 54,
   "id": "a53dd17a-6649-424f-9bee-0fb874ba777e",
   "metadata": {},
   "outputs": [],
   "source": [
    "data['EmployeeName'].replace('Not provided',np.nan,inplace=True)"
   ]
  },
  {
   "cell_type": "code",
   "execution_count": 55,
   "id": "6b687645-9413-4fe1-80f1-2712ee7d32fb",
   "metadata": {},
   "outputs": [
    {
     "data": {
      "text/plain": [
       "0            NATHANIEL FORD\n",
       "1              GARY JIMENEZ\n",
       "2            ALBERT PARDINI\n",
       "3         CHRISTOPHER CHONG\n",
       "4           PATRICK GARDNER\n",
       "                ...        \n",
       "148649        Roy I Tillery\n",
       "148650                  NaN\n",
       "148651                  NaN\n",
       "148652                  NaN\n",
       "148653            Joe Lopez\n",
       "Name: EmployeeName, Length: 148654, dtype: object"
      ]
     },
     "execution_count": 55,
     "metadata": {},
     "output_type": "execute_result"
    }
   ],
   "source": [
    "# displaying Employee Name column\n",
    "data['EmployeeName']"
   ]
  },
  {
   "cell_type": "markdown",
   "id": "7984c0b6-e8aa-4239-8d8c-70487dd75cf5",
   "metadata": {},
   "source": [
    "# 14. Drop The Rows Having 4 Missing Values"
   ]
  },
  {
   "cell_type": "code",
   "execution_count": 106,
   "id": "42679e99-d394-4329-bc0f-cea3da5165d3",
   "metadata": {},
   "outputs": [
    {
     "name": "stdout",
     "output_type": "stream",
     "text": [
      "             EmployeeName                                        JobTitle  \\\n",
      "0          NATHANIEL FORD  GENERAL MANAGER-METROPOLITAN TRANSIT AUTHORITY   \n",
      "1            GARY JIMENEZ                 CAPTAIN III (POLICE DEPARTMENT)   \n",
      "2          ALBERT PARDINI                 CAPTAIN III (POLICE DEPARTMENT)   \n",
      "3       CHRISTOPHER CHONG            WIRE ROPE CABLE MAINTENANCE MECHANIC   \n",
      "4         PATRICK GARDNER    DEPUTY CHIEF OF DEPARTMENT,(FIRE DEPARTMENT)   \n",
      "...                   ...                                             ...   \n",
      "148649      Roy I Tillery                                       Custodian   \n",
      "148650                NaN                                    Not provided   \n",
      "148651                NaN                                    Not provided   \n",
      "148652                NaN                                    Not provided   \n",
      "148653          Joe Lopez                      Counselor, Log Cabin Ranch   \n",
      "\n",
      "          BasePay  OvertimePay   OtherPay  Benefits   TotalPay  \\\n",
      "0       167411.18         0.00  400184.25       NaN  567595.43   \n",
      "1       155966.02    245131.88  137811.38       NaN  538909.28   \n",
      "2       212739.13    106088.18   16452.60       NaN  335279.91   \n",
      "3        77916.00     56120.71  198306.90       NaN  332343.61   \n",
      "4       134401.60      9737.00  182234.59       NaN  326373.19   \n",
      "...           ...          ...        ...       ...        ...   \n",
      "148649       0.00         0.00       0.00       0.0       0.00   \n",
      "148650        NaN          NaN        NaN       NaN       0.00   \n",
      "148651        NaN          NaN        NaN       NaN       0.00   \n",
      "148652        NaN          NaN        NaN       NaN       0.00   \n",
      "148653       0.00         0.00    -618.13       0.0    -618.13   \n",
      "\n",
      "        TotalPayBenefits  Year  \n",
      "0              567595.43  2011  \n",
      "1              538909.28  2011  \n",
      "2              335279.91  2011  \n",
      "3              332343.61  2011  \n",
      "4              326373.19  2011  \n",
      "...                  ...   ...  \n",
      "148649              0.00  2014  \n",
      "148650              0.00  2014  \n",
      "148651              0.00  2014  \n",
      "148652              0.00  2014  \n",
      "148653           -618.13  2014  \n",
      "\n",
      "[148654 rows x 9 columns]\n"
     ]
    }
   ],
   "source": [
    "data = data[data.isnull().sum(axis=1) != 4]\n",
    "print(data)"
   ]
  },
  {
   "cell_type": "markdown",
   "id": "5e9847d0-efb6-4bc6-9f84-ad9efbda3abe",
   "metadata": {},
   "source": [
    "# 15. Find Job Title of ALBERT PARDINI"
   ]
  },
  {
   "cell_type": "code",
   "execution_count": 92,
   "id": "cb5c8c92-c4dd-43d5-9d5f-7b19a40295df",
   "metadata": {},
   "outputs": [
    {
     "data": {
      "text/html": [
       "<div>\n",
       "<style scoped>\n",
       "    .dataframe tbody tr th:only-of-type {\n",
       "        vertical-align: middle;\n",
       "    }\n",
       "\n",
       "    .dataframe tbody tr th {\n",
       "        vertical-align: top;\n",
       "    }\n",
       "\n",
       "    .dataframe thead th {\n",
       "        text-align: right;\n",
       "    }\n",
       "</style>\n",
       "<table border=\"1\" class=\"dataframe\">\n",
       "  <thead>\n",
       "    <tr style=\"text-align: right;\">\n",
       "      <th></th>\n",
       "      <th>EmployeeName</th>\n",
       "      <th>JobTitle</th>\n",
       "      <th>BasePay</th>\n",
       "      <th>OvertimePay</th>\n",
       "      <th>OtherPay</th>\n",
       "      <th>Benefits</th>\n",
       "      <th>TotalPay</th>\n",
       "      <th>TotalPayBenefits</th>\n",
       "      <th>Year</th>\n",
       "    </tr>\n",
       "  </thead>\n",
       "  <tbody>\n",
       "  </tbody>\n",
       "</table>\n",
       "</div>"
      ],
      "text/plain": [
       "Empty DataFrame\n",
       "Columns: [EmployeeName, JobTitle, BasePay, OvertimePay, OtherPay, Benefits, TotalPay, TotalPayBenefits, Year]\n",
       "Index: []"
      ]
     },
     "execution_count": 92,
     "metadata": {},
     "output_type": "execute_result"
    }
   ],
   "source": [
    "data[data['JobTitle'] == 'ALBERT PARDINI']"
   ]
  },
  {
   "cell_type": "markdown",
   "id": "ee6001a6-94e0-4dd1-8668-423c5dc2bb81",
   "metadata": {},
   "source": [
    "# 17.Display Name of The Person Having The Highest BasePay"
   ]
  },
  {
   "cell_type": "code",
   "execution_count": 76,
   "id": "0ae44f7f-1c7d-4f3e-be7d-f5f5103d0042",
   "metadata": {},
   "outputs": [
    {
     "name": "stdout",
     "output_type": "stream",
     "text": [
      "The Person Having The Highest BasePay =\n",
      " EmployeeName    Gregory P Suhr\n",
      "Name: 72925, dtype: object\n"
     ]
    }
   ],
   "source": [
    "mx = data[\"BasePay\"].idxmax()\n",
    "name = data.loc[mx,['EmployeeName']]\n",
    "print(\"The Person Having The Highest BasePay =\\n\", name)"
   ]
  },
  {
   "cell_type": "markdown",
   "id": "fab6a7ef-4a62-4e2c-ac0a-06a28327737f",
   "metadata": {},
   "source": [
    "# 18. Find Average BasePay of All Employee Per Year"
   ]
  },
  {
   "cell_type": "code",
   "execution_count": 103,
   "id": "ae87518d-4782-42cd-bb5d-32766bfec25e",
   "metadata": {},
   "outputs": [
    {
     "data": {
      "text/plain": [
       "Year\n",
       "2011    63595.956517\n",
       "2012    65436.406857\n",
       "2013    69630.030216\n",
       "2014    66564.421924\n",
       "Name: BasePay, dtype: float64"
      ]
     },
     "execution_count": 103,
     "metadata": {},
     "output_type": "execute_result"
    }
   ],
   "source": [
    "data.groupby('Year')['BasePay'].mean()"
   ]
  },
  {
   "cell_type": "markdown",
   "id": "7ca4fe98-b45c-40dc-ab5f-09f7e1696f40",
   "metadata": {},
   "source": [
    "# 19. Find Average BasePay of All Employee Per JobTitle "
   ]
  },
  {
   "cell_type": "code",
   "execution_count": 104,
   "id": "5a9a12d6-2194-47ab-a25a-e5f720c75b2c",
   "metadata": {},
   "outputs": [
    {
     "data": {
      "text/plain": [
       "JobTitle\n",
       "ACCOUNT CLERK                                     43300.806506\n",
       "ACCOUNTANT                                        46643.172000\n",
       "ACCOUNTANT INTERN                                 28732.663958\n",
       "ACPO,JuvP, Juv Prob (SFERS)                       62290.780000\n",
       "ACUPUNCTURIST                                     66374.400000\n",
       "                                                      ...     \n",
       "X-RAY LABORATORY AIDE                             47664.773077\n",
       "X-Ray Laboratory Aide                             46086.387100\n",
       "YOUTH COMMISSION ADVISOR, BOARD OF SUPERVISORS    52609.910000\n",
       "Youth Comm Advisor                                39077.957500\n",
       "ZOO CURATOR                                       43148.000000\n",
       "Name: BasePay, Length: 2159, dtype: float64"
      ]
     },
     "execution_count": 104,
     "metadata": {},
     "output_type": "execute_result"
    }
   ],
   "source": [
    "\n",
    "data.groupby('JobTitle')['BasePay'].mean()"
   ]
  },
  {
   "cell_type": "markdown",
   "id": "e001d4cd-e6c0-44b9-8751-48712f53e17e",
   "metadata": {},
   "source": [
    "# 20. Find Average BasePay of Employee Having Job Title ACCOUNTANT "
   ]
  },
  {
   "cell_type": "code",
   "execution_count": 91,
   "id": "937662d8-4392-4d7c-9a1d-c7eda883907d",
   "metadata": {},
   "outputs": [
    {
     "name": "stdout",
     "output_type": "stream",
     "text": [
      "Average BasePay of Employee Having Job Title ACCOUNTANT = 46643.172\n"
     ]
    }
   ],
   "source": [
    "\n",
    "acc_avg = data[data['JobTitle'] == 'ACCOUNTANT']['BasePay'].mean()\n",
    "print(\"Average BasePay of Employee Having Job Title ACCOUNTANT =\", acc_avg)"
   ]
  },
  {
   "cell_type": "code",
   "execution_count": 80,
   "id": "737fd974-8451-41b1-b7ee-1aeb1e1ca2c3",
   "metadata": {},
   "outputs": [
    {
     "data": {
      "text/plain": [
       "JobTitle\n",
       "Transit Operator                7036\n",
       "Special Nurse                   4389\n",
       "Registered Nurse                3736\n",
       "Public Svc Aide-Public Works    2518\n",
       "Police Officer 3                2421\n",
       "Name: count, dtype: int64"
      ]
     },
     "execution_count": 80,
     "metadata": {},
     "output_type": "execute_result"
    }
   ],
   "source": [
    "# 21. Find Top 5 Most Common Jobs\n",
    "data['JobTitle'].value_counts().head()"
   ]
  },
  {
   "cell_type": "code",
   "execution_count": null,
   "id": "dd7a689b-f920-45a4-9e07-f971d85139f5",
   "metadata": {},
   "outputs": [],
   "source": []
  }
 ],
 "metadata": {
  "kernelspec": {
   "display_name": "Python 3 (ipykernel)",
   "language": "python",
   "name": "python3"
  },
  "language_info": {
   "codemirror_mode": {
    "name": "ipython",
    "version": 3
   },
   "file_extension": ".py",
   "mimetype": "text/x-python",
   "name": "python",
   "nbconvert_exporter": "python",
   "pygments_lexer": "ipython3",
   "version": "3.12.7"
  }
 },
 "nbformat": 4,
 "nbformat_minor": 5
}
